{
 "cells": [
  {
   "cell_type": "markdown",
   "metadata": {
    "id": "l0ZzOlyxB-kf"
   },
   "source": [
    "<h1>Python: without numpy or sklearn </h1>"
   ]
  },
  {
   "cell_type": "markdown",
   "metadata": {
    "id": "C0xO8JV9B-ki"
   },
   "source": [
    "<h3> Q1: Given two matrices please print the product of those two matrices </h3>\n",
    "<pre>\n",
    "\n",
    "Ex 1: A   = [[1 3 4]\n",
    "             [2 5 7]\n",
    "             [5 9 6]]\n",
    "      B   = [[1 0 0]\n",
    "             [0 1 0]\n",
    "             [0 0 1]]\n",
    "      A*B = [[1 3 4]\n",
    "             [2 5 7]\n",
    "             [5 9 6]]\n",
    "\n",
    "     \n",
    "Ex 2: A   = [[1 2]\n",
    "             [3 4]]\n",
    "      B   = [[1 2 3 4 5]\n",
    "             [5 6 7 8 9]]\n",
    "      A*B = [[11 14 17 20 23]\n",
    "             [23 30 36 42 51]]\n",
    "             \n",
    "Ex 3: A   = [[1 2]\n",
    "             [3 4]]\n",
    "      B   = [[1 4]\n",
    "             [5 6]\n",
    "             [7 8]\n",
    "             [9 6]]\n",
    "      A*B =Not possible\n",
    "</pre>"
   ]
  },
  {
   "cell_type": "code",
   "execution_count": 66,
   "metadata": {
    "colab": {
     "base_uri": "https://localhost:8080/"
    },
    "id": "rnssAfpgB-kj",
    "outputId": "288b9f88-5bfd-400e-f119-837bec5c6ce3"
   },
   "outputs": [
    {
     "name": "stdout",
     "output_type": "stream",
     "text": [
      "[[11, 14, 17, 20, 23], [23, 30, 37, 44, 51]]\n"
     ]
    }
   ],
   "source": [
    "# write your python code here\n",
    "# you can take the above example as sample input for your program to test\n",
    "# it should work for any general input try not to hard code for only given input examples\n",
    "\n",
    "\n",
    "A   = [[1,2],\n",
    "       [3,4]]\n",
    "B   = [[1,2,3,4,5],\n",
    "       [5,6,7,8,9]]\n",
    "\n",
    "# you can free to change all these codes/structure\n",
    "# here A and B are list of lists\n",
    "def matrix_mul(A, B):\n",
    "    # write your code\n",
    "    if len(A[0]) != len(B):\n",
    "        return \"Not possible\"\n",
    "    result = [[sum(a*b for a,b in zip(row,col)) for col in zip(*B)] for row in A]\n",
    "    return result\n",
    "    \n",
    "print(matrix_mul(A, B))"
   ]
  },
  {
   "cell_type": "markdown",
   "metadata": {
    "id": "at4VwLggB-kn"
   },
   "source": [
    "<h3> Q2: Select a number randomly with probability proportional to its magnitude from the given array of n elements</h3>\n",
    "\n",
    "consider an experiment, selecting an element from the list A randomly with probability proportional to its magnitude.\n",
    "assume we are doing the same experiment for 100 times with replacement, in each experiment you will print a number that is selected randomly from A.\n",
    "\n",
    "<pre>\n",
    "Ex 1: A = [0 5 27 6 13 28 100 45 10 79]\n",
    "let f(x) denote the number of times x getting selected in 100 experiments.\n",
    "f(100) > f(79) > f(45) > f(28) > f(27) > f(13) > f(10) > f(6) > f(5) > f(0)\n",
    "</pre>"
   ]
  },
  {
   "cell_type": "code",
   "execution_count": 67,
   "metadata": {
    "colab": {
     "base_uri": "https://localhost:8080/"
    },
    "id": "B6S2dpBhB-kn",
    "outputId": "a24f4475-7a39-48a1-dbe0-ea3a72cb0d5c"
   },
   "outputs": [
    {
     "name": "stdout",
     "output_type": "stream",
     "text": [
      "[79]\n",
      "[79]\n",
      "[100]\n",
      "[45]\n",
      "[100]\n",
      "[45]\n",
      "[10]\n",
      "[79]\n",
      "[79]\n",
      "[28]\n",
      "[100]\n",
      "[27]\n",
      "[100]\n",
      "[28]\n",
      "[100]\n",
      "[100]\n",
      "[27]\n",
      "[79]\n",
      "[100]\n",
      "[100]\n",
      "[79]\n",
      "[45]\n",
      "[100]\n",
      "[100]\n",
      "[13]\n",
      "[45]\n",
      "[79]\n",
      "[100]\n",
      "[100]\n",
      "[100]\n",
      "[28]\n",
      "[27]\n",
      "[28]\n",
      "[100]\n",
      "[10]\n",
      "[79]\n",
      "[27]\n",
      "[100]\n",
      "[100]\n",
      "[27]\n",
      "[13]\n",
      "[100]\n",
      "[100]\n",
      "[13]\n",
      "[100]\n",
      "[79]\n",
      "[100]\n",
      "[13]\n",
      "[100]\n",
      "[100]\n",
      "[10]\n",
      "[100]\n",
      "[27]\n",
      "[100]\n",
      "[100]\n",
      "[100]\n",
      "[13]\n",
      "[28]\n",
      "[100]\n",
      "[45]\n",
      "[100]\n",
      "[79]\n",
      "[79]\n",
      "[100]\n",
      "[79]\n",
      "[79]\n",
      "[27]\n",
      "[79]\n",
      "[79]\n",
      "[28]\n",
      "[45]\n",
      "[100]\n",
      "[79]\n",
      "[13]\n",
      "[100]\n",
      "[45]\n",
      "[79]\n",
      "[79]\n",
      "[45]\n",
      "[100]\n",
      "[45]\n",
      "[45]\n",
      "[100]\n",
      "[79]\n",
      "[100]\n",
      "[79]\n",
      "[100]\n",
      "[100]\n",
      "[13]\n",
      "[13]\n",
      "[100]\n",
      "[10]\n",
      "[100]\n",
      "[100]\n",
      "[100]\n",
      "[28]\n",
      "[45]\n",
      "[100]\n",
      "[27]\n"
     ]
    }
   ],
   "source": [
    "from random import uniform\n",
    "import random\n",
    "# write your python code here\n",
    "# you can take the above example as sample input for your program to test\n",
    "# it should work for any general input try not to hard code for only given input examples\n",
    "\n",
    "#Reference: https://stackoverflow.com/questions/57892112 - 'Last Solution'\n",
    "\n",
    "# you can free to change all these codes/structure\n",
    "def pick_a_number_from_list(A):\n",
    "    # your code here for picking an element from with the probability propotional to its magnitude\n",
    "    weights=[]\n",
    "    for i in A:\n",
    "        weights.append(i/sum(A))\n",
    "        \n",
    "    rndm_num = random.choices(A,weights,k=1)    \n",
    "    \n",
    "    return rndm_num\n",
    "\n",
    "A = [0,5,27,6,13,28,100,45,10,79]  \n",
    "\n",
    "def sampling_based_on_magnitued():\n",
    "    for i in range(1,100):\n",
    "        number = pick_a_number_from_list(A)\n",
    "        print(number)\n",
    "\n",
    "sampling_based_on_magnitued()"
   ]
  },
  {
   "cell_type": "markdown",
   "metadata": {
    "id": "D1xQy2WWB-kq"
   },
   "source": [
    "<h3> Q3: Replace the digits in the string with #</h3>\n",
    "\n",
    "consider a string that will have digits in that, we need to remove all the not digits and replace the digits with #\n",
    "<pre>\n",
    "Ex 1: A = 234                Output: ###\n",
    "Ex 2: A = a2b3c4             Output: ###\n",
    "Ex 3: A = abc                Output:   (empty string)\n",
    "Ex 5: A = #2a$#b%c%561#      Output: ####\n",
    "</pre>"
   ]
  },
  {
   "cell_type": "code",
   "execution_count": 68,
   "metadata": {
    "colab": {
     "base_uri": "https://localhost:8080/"
    },
    "id": "fxczi2jzB-kr",
    "outputId": "2747d432-dfdc-418a-86d0-dbe6540a4649"
   },
   "outputs": [
    {
     "name": "stdout",
     "output_type": "stream",
     "text": [
      "###\n",
      "###\n",
      "\n",
      "####\n"
     ]
    }
   ],
   "source": [
    "import re\n",
    "# write your python code here\n",
    "# you can take the above example as sample input for your program to test\n",
    "# it should work for any general input try not to hard code for only given input examples\n",
    "\n",
    "# you can free to change all these codes/structure\n",
    "# String: it will be the input to your program\n",
    "def replace_digits(String):\n",
    "    # write your code\n",
    "    String = re.sub(\"[^0-9]\",\"\",str(String))\n",
    "    String = re.sub('\\d','#',String)\n",
    "    return String # modified string which is after replacing the # with digits\n",
    "\n",
    "print(replace_digits('234'))\n",
    "print(replace_digits('a2b3c4'))\n",
    "print(replace_digits('abc'))\n",
    "print(replace_digits('#2a$#b%c%561#'))"
   ]
  },
  {
   "cell_type": "markdown",
   "metadata": {
    "id": "j7h0Ywg7B-kw"
   },
   "source": [
    "<h3> Q4: Students marks dashboard</h3>\n",
    "\n",
    "consider the marks list of class students given two lists <br>\n",
    "Students = ['student1','student2','student3','student4','student5','student6','student7','student8','student9','student10'] <br>\n",
    "Marks = [45, 78, 12, 14, 48, 43, 45, 98, 35, 80] <br>\n",
    "from the above two lists the Student[0] got Marks[0],  Student[1] got Marks[1] and so on <br><br>\n",
    "your task is to print the name of students\n",
    "<strong>a. Who got top 5 ranks, in the descending order of marks</strong> <br>\n",
    "<strong>b. Who got least 5 ranks, in the increasing order of marks</strong><br>\n",
    "<strong>d. Who got marks between  &gt;25th percentile &lt;75th percentile, in the increasing order of marks</strong>\n",
    "\n",
    "<pre>\n",
    "Ex 1: \n",
    "Students=['student1','student2','student3','student4','student5','student6','student7','student8','student9','student10'] \n",
    "Marks = [45, 78, 12, 14, 48, 43, 47, 98, 35, 80]\n",
    "a. \n",
    "student8  98\n",
    "student10 80\n",
    "student2  78\n",
    "student5  48\n",
    "student7  47\n",
    "b.\n",
    "student3 12\n",
    "student4 14\n",
    "student9 35\n",
    "student6 43\n",
    "student1 45\n",
    "c.\n",
    "student9 35\n",
    "student6 43\n",
    "student1 45\n",
    "student7 47\n",
    "student5 48\n",
    "</pre>"
   ]
  },
  {
   "cell_type": "code",
   "execution_count": 8,
   "metadata": {
    "colab": {
     "base_uri": "https://localhost:8080/"
    },
    "id": "cxPJgItsB-kx",
    "outputId": "2eecf6e2-51a8-4648-9256-a0f75878999b"
   },
   "outputs": [
    {
     "name": "stdout",
     "output_type": "stream",
     "text": [
      "a.\n",
      "student8 98\n",
      "student10 80\n",
      "student2 78\n",
      "student5 48\n",
      "student7 47\n",
      "\n",
      "\n",
      "b.\n",
      "student3 12\n",
      "student4 14\n",
      "student9 35\n",
      "student6 43\n",
      "student1 45\n",
      "\n",
      "\n",
      "c.\n",
      "student1 45\n",
      "student5 48\n",
      "student6 43\n",
      "student7 47\n",
      "student9 35\n"
     ]
    }
   ],
   "source": [
    "# write your python code here\n",
    "# you can take the above example as sample input for your program to test\n",
    "# it should work for any general input try not to hard code for only given input examples\n",
    "\n",
    "# you can free to change all these codes/structure\n",
    "students=['student1','student2','student3','student4','student5','student6','student7','student8','student9','student10'] \n",
    "marks = [45, 78, 12, 14, 48, 43, 47, 98, 35, 80]\n",
    "def display_dash_board(students, marks):\n",
    "\n",
    "    dic = dict(zip(students,marks))\n",
    "\n",
    "    # write code for computing top top 5 students\n",
    "    print(\"a.\")\n",
    "    top_5_students = (sorted(dic.values())[5:])[::-1]\n",
    "    for m in top_5_students:\n",
    "        print(list(dic.keys())[list(dic.values()).index(m)],m)\n",
    "    \n",
    "    print(\"\\n\")\n",
    "    \n",
    "    # write code for computing top least 5 students\n",
    "    print(\"b.\")\n",
    "    least_5_students = (sorted(dic.values())[:5])\n",
    "    for m in least_5_students:\n",
    "        print(list(dic.keys())[list(dic.values()).index(m)], m )\n",
    "    \n",
    "    print(\"\\n\")\n",
    "    \n",
    "    # write code for computing top least 5 students\n",
    "    # Calculating the 25th and 75th percentile\n",
    "    diff = max(marks) - min(marks)\n",
    "    tile_25 = diff*0.25\n",
    "    tile_75 = diff*0.75\n",
    "    \n",
    "    print(\"c.\")\n",
    "    for m in dic.values():\n",
    "        if ( m <= tile_75 and m >= tile_25 ):\n",
    "            print(list(dic.keys())[list(dic.values()).index(m)],m)\n",
    "            \n",
    "        else:\n",
    "            pass\n",
    "    \n",
    "    \n",
    "    #return top_5_students, least_5_students, students_within_25_and_75\n",
    "\n",
    "display_dash_board(students, marks)\n",
    "#print(# those values)"
   ]
  },
  {
   "cell_type": "markdown",
   "metadata": {
    "id": "qha0OhQHB-k1"
   },
   "source": [
    "<h3> Q5: Find the closest points</h3>\n",
    "\n",
    "consider you have given n data points in the form of list of tuples like S=[(x1,y1),(x2,y2),(x3,y3),(x4,y4),(x5,y5),..,(xn,yn)] and a point P=(p,q) <br> your task is to find 5 closest points(based on cosine distance) in S from P\n",
    "<br>cosine distance between two points (x,y) and (p,q) is defind as $cos^{-1}(\\frac{(x\\cdot p+y\\cdot q)}{\\sqrt(x^2+y^2)\\cdot\\sqrt(p^2+q^2)})$\n",
    "<pre>\n",
    "Ex:\n",
    "\n",
    "S= [(1,2),(3,4),(-1,1),(6,-7),(0, 6),(-5,-8),(-1,-1)(6,0),(1,-1)]\n",
    "P= (3,-4)\n",
    "<img src='https://i.imgur.com/vIFPOcG.jpg', width=300>\n",
    "Output:\n",
    "(6,-7)\n",
    "(1,-1)\n",
    "(6,0)\n",
    "(-5,-8)\n",
    "(-1,-1)\n",
    "</pre>"
   ]
  },
  {
   "cell_type": "code",
   "execution_count": 70,
   "metadata": {
    "colab": {
     "base_uri": "https://localhost:8080/"
    },
    "id": "wA5I1g-2B-k2",
    "outputId": "ab4afe01-1f59-4aa8-9066-9444e32adf69"
   },
   "outputs": [
    {
     "name": "stdout",
     "output_type": "stream",
     "text": [
      "(6, -7)\n",
      "(1, -1)\n",
      "(6, 0)\n",
      "(-5, -8)\n",
      "(-1, -1)\n",
      "\n"
     ]
    }
   ],
   "source": [
    "import math\n",
    "\n",
    "# write your python code here\n",
    "# you can take the above example as sample input for your program to test\n",
    "# it should work for any general input try not to hard code for only given input examples\n",
    "# you can free to change all these codes/structure\n",
    "\n",
    "\n",
    "# here S is list of tuples and P is a tuple ot len=2\n",
    "def closest_points_to_p(S, P):\n",
    "    # write your code here\n",
    "    distance = {}\n",
    "    for i in range(len(S)):\n",
    "        d = math.acos(((S[i][0]*P[0])+(S[i][1]*P[1]))/((math.sqrt((S[i][0]**2)+(S[i][1]**2))) *(math.sqrt((P[0]**2)+(P[1]**2)))))\n",
    "        distance[S[i]] = d\n",
    "\n",
    "    dis = sorted(distance.values())[:5]\n",
    "    for m in dis:\n",
    "        print(list(distance.keys())[list(distance.values()).index(m)])\n",
    "    #return closest_points_to_p  # its list of tuples\n",
    "\n",
    "\n",
    "S= [(1,2), (3,4),(-1,1),(6,-7),(0,6),(-5,-8),(-1,-1),(6,0),(1,-1)]\n",
    "P= (3,-4)\n",
    "points = closest_points_to_p(S, P)\n",
    "print() #print the returned values"
   ]
  },
  {
   "cell_type": "markdown",
   "metadata": {
    "id": "-g11jeAiB-k5"
   },
   "source": [
    "<h3> Q6: Find Which line separates oranges and apples</h3>\n",
    "consider you have given two set of data points in the form of list of tuples like \n",
    "<pre>\n",
    "Red =[(R11,R12),(R21,R22),(R31,R32),(R41,R42),(R51,R52),..,(Rn1,Rn2)]\n",
    "Blue=[(B11,B12),(B21,B22),(B31,B32),(B41,B42),(B51,B52),..,(Bm1,Bm2)]\n",
    "</pre>\n",
    "and set of line equations(in the string formate, i.e list of strings)\n",
    "<pre>\n",
    "Lines = [a1x+b1y+c1,a2x+b2y+c2,a3x+b3y+c3,a4x+b4y+c4,..,K lines]\n",
    "Note: you need to string parsing here and get the coefficients of x,y and intercept\n",
    "</pre>\n",
    "your task is to for each line that is given print \"YES\"/\"NO\", you will print yes, if all the red points are one side of the line and blue points are other side of the line, otherwise no\n",
    "<pre>\n",
    "Ex:\n",
    "Red= [(1,1),(2,1),(4,2),(2,4), (-1,4)]\n",
    "Blue= [(-2,-1),(-1,-2),(-3,-2),(-3,-1),(1,-3)]\n",
    "Lines=[\"1x+1y+0\",\"1x-1y+0\",\"1x+0y-3\",\"0x+1y-0.5\"]\n",
    "<img src='https://i.imgur.com/DoQf7mE.jpg' width=400>\n",
    "Output:\n",
    "YES\n",
    "NO\n",
    "NO\n",
    "YES\n",
    "</pre>"
   ]
  },
  {
   "cell_type": "code",
   "execution_count": 71,
   "metadata": {
    "colab": {
     "base_uri": "https://localhost:8080/"
    },
    "id": "eRxExaTRB-k6",
    "outputId": "99089592-852e-4d61-9159-7181eec2b0e9"
   },
   "outputs": [
    {
     "name": "stdout",
     "output_type": "stream",
     "text": [
      "YES\n",
      "NO\n",
      "NO\n",
      "YES\n"
     ]
    }
   ],
   "source": [
    "import math\n",
    "# write your python code here\n",
    "# you can take the above example as sample input for your program to test\n",
    "# it should work for any general input try not to hard code for only given input strings\n",
    "\n",
    "\n",
    "# you can free to change all these codes/structure\n",
    "def i_am_the_one(red,blue,line):\n",
    "\n",
    "    # Reference: Reference: https://stackoverflow.com/questions/57188227/to-find-whether-a-given-line-equation-is-able-to-separate-the-two-lists-of-poi\n",
    "\n",
    "    # your code\n",
    "    a, b, c = [float(coef.strip()) for coef in re.split('x|y', line)]\n",
    "    \n",
    "    string_red = \"\"\n",
    "    for i in red:\n",
    "        if a*i[0]+b*i[1]+c<0:\n",
    "            break\n",
    "        else:\n",
    "            string_red += \"1\"\n",
    "\n",
    "    string_blue = \"\"     \n",
    "    for i in blue:\n",
    "        if a*i[0]+b*i[1]+c>0:\n",
    "            break\n",
    "        else:\n",
    "            string_blue += \"1\"\n",
    "        \n",
    "    if len(string_red) == len(string_blue):\n",
    "        return \"YES\"\n",
    "    else:\n",
    "        return \"NO\"\n",
    "\n",
    "Red= [(1,1),(2,1),(4,2),(2,4), (-1,4)]\n",
    "Blue= [(-2,-1),(-1,-2),(-3,-2),(-3,-1),(1,-3)]\n",
    "Lines=[\"1x+1y+0\",\"1x-1y+0\",\"1x+0y-3\",\"0x+1y-0.5\"]\n",
    "\n",
    "for i in Lines:\n",
    "    yes_or_no = i_am_the_one(Red, Blue, i)\n",
    "    print(yes_or_no) # the returned value"
   ]
  },
  {
   "cell_type": "markdown",
   "metadata": {
    "id": "9OBpURbNB-k9"
   },
   "source": [
    "<h3> Q7: Filling the missing values in the specified formate</h3>\n",
    "You will be given a string with digits and '\\_'(missing value) symbols you have to replace the '\\_' symbols as explained \n",
    "<pre>\n",
    "Ex 1: _, _, _, 24 ==> 24/4, 24/4, 24/4, 24/4 i.e we. have distributed the 24 equally to all 4 places <br>\n",
    "Ex 2: 40, _, _, _, 60 ==> (60+40)/5,(60+40)/5,(60+40)/5,(60+40)/5,(60+40)/5 ==> 20, 20, 20, 20, 20 i.e. the sum of (60+40) is distributed qually to all 5 places<br>\n",
    "Ex 3: 80, _, _, _, _  ==> 80/5,80/5,80/5,80/5,80/5 ==> 16, 16, 16, 16, 16 i.e. the 80 is distributed qually to all 5 missing values that are right to it<br>\n",
    "Ex 4: _, _, 30, _, _, _, 50, _, _  \n",
    "==> we will fill the missing values from left to right \n",
    "    a. first we will distribute the 30 to left two missing values (10, 10, 10, _, _, _, 50, _, _)\n",
    "    b. now distribute the sum (10+50) missing values in between (10, 10, 12, 12, 12, 12, 12, _, _) \n",
    "    c. now we will distribute 12 to right side missing values (10, 10, 12, 12, 12, 12, 4, 4, 4)\n",
    "</pre>\n",
    "for a given string with comma seprate values, which will have both missing values numbers like ex: \"_, _, x, _, _, _\"\n",
    "you need fill the missing values\n",
    "\n",
    "Q: your program reads a string like ex: \"_, _, x, _, _, _\" and returns the filled sequence\n",
    "\n",
    "Ex: \n",
    "<pre>\n",
    "Input1: \"_,_,_,24\"\n",
    "Output1: 6,6,6,6\n",
    "\n",
    "Input2: \"40,_,_,_,60\"\n",
    "Output2: 20,20,20,20,20\n",
    "\n",
    "Input3: \"80,_,_,_,_\"\n",
    "Output3: 16,16,16,16,16\n",
    "\n",
    "Input4: \"_,_,30,_,_,_,50,_,_\"\n",
    "Output4: 10,10,12,12,12,12,4,4,4\n",
    "</pre>\n",
    "\n"
   ]
  },
  {
   "cell_type": "code",
   "execution_count": 72,
   "metadata": {
    "colab": {
     "base_uri": "https://localhost:8080/"
    },
    "id": "nZmpzHs_B-k-",
    "outputId": "0627e0ae-2e75-440f-8169-f6ddcc26ba13"
   },
   "outputs": [
    {
     "name": "stdout",
     "output_type": "stream",
     "text": [
      "[10, 10, 12, 12, 12, 12, 4, 4, 4]\n"
     ]
    }
   ],
   "source": [
    "# write your python code here\n",
    "# you can take the above example as sample input for your program to test\n",
    "# it should work for any general input try not to hard code for only given input strings\n",
    "\n",
    "\n",
    "# you can free to change all these codes/structure\n",
    "def curve_smoothing(string):\n",
    "    # your code\n",
    "    a = string.split(',')\n",
    "    count = 0\n",
    "    m = 0\n",
    "\n",
    "    # left blanks\n",
    "    for i in range(len(a)):\n",
    "        if a[i] == '_':\n",
    "          # find number of blanks to the left of a number\n",
    "            count = count + 1  \n",
    "        else:\n",
    "            for j in range(i + 1):\n",
    "                # if there are n blanks to the left of the number speard the number equal over n+1 spaces\n",
    "                a[j] = int((float(a[i]) / (count + 1)))\n",
    "            m = i\n",
    "            value = float(a[i])\n",
    "            break\n",
    "\n",
    "    # middle blanks\n",
    "    d = 1\n",
    "    flag = 0\n",
    "    for k in range(m + 1, len(a)):\n",
    "        if a[k] != '_':\n",
    "            d = (k + 1 - m)\n",
    "            flag = k\n",
    "            break\n",
    "    f_value = float(a[flag])\n",
    "    for p in range(m, flag + 1):\n",
    "        a[p] = int((value + f_value) / d)\n",
    "\n",
    "    # right blanks\n",
    "    last_value = float(a[flag])\n",
    "    for q in range(flag, len(a)):\n",
    "        a[q] = int(last_value / (len(a) - flag))\n",
    "\n",
    "    return a\n",
    "\n",
    "S=  \"_,_,30,_,_,_,50,_,_\"\n",
    "smoothed_values= curve_smoothing(S)\n",
    "print(smoothed_values)"
   ]
  },
  {
   "cell_type": "markdown",
   "metadata": {
    "id": "RBz4pzlfB-lB"
   },
   "source": [
    "<h3> Q8: Filling the missing values in the specified formate</h3>\n",
    "You will be given a list of lists, each sublist will be of length 2 i.e. [[x,y],[p,q],[l,m]..[r,s]]\n",
    "consider its like a martrix of n rows and two columns\n",
    "1. the first column F will contain only 5 uniques values (F1, F2, F3, F4, F5)\n",
    "2. the second column S will contain only 3 uniques values (S1, S2, S3)\n",
    "<pre>\n",
    "your task is to find\n",
    "a. Probability of P(F=F1|S==S1), P(F=F1|S==S2), P(F=F1|S==S3)\n",
    "b. Probability of P(F=F2|S==S1), P(F=F2|S==S2), P(F=F2|S==S3)\n",
    "c. Probability of P(F=F3|S==S1), P(F=F3|S==S2), P(F=F3|S==S3)\n",
    "d. Probability of P(F=F4|S==S1), P(F=F4|S==S2), P(F=F4|S==S3)\n",
    "e. Probability of P(F=F5|S==S1), P(F=F5|S==S2), P(F=F5|S==S3)\n",
    "</pre>\n",
    "Ex:\n",
    "\n",
    "<pre>\n",
    "[[F1,S1],[F2,S2],[F3,S3],[F1,S2],[F2,S3],[F3,S2],[F2,S1],[F4,S1],[F4,S3],[F5,S1]]\n",
    "\n",
    "a. P(F=F1|S==S1)=1/4, P(F=F1|S==S2)=1/3, P(F=F1|S==S3)=0/3\n",
    "b. P(F=F2|S==S1)=1/4, P(F=F2|S==S2)=1/3, P(F=F2|S==S3)=1/3\n",
    "c. P(F=F3|S==S1)=0/4, P(F=F3|S==S2)=1/3, P(F=F3|S==S3)=1/3\n",
    "d. P(F=F4|S==S1)=1/4, P(F=F4|S==S2)=0/3, P(F=F4|S==S3)=1/3\n",
    "e. P(F=F5|S==S1)=1/4, P(F=F5|S==S2)=0/3, P(F=F5|S==S3)=0/3\n",
    "</pre>\n",
    "\n",
    "\n"
   ]
  },
  {
   "cell_type": "code",
   "execution_count": 73,
   "metadata": {
    "colab": {
     "base_uri": "https://localhost:8080/"
    },
    "id": "e-1giz1MB-lC",
    "outputId": "8f904f0e-d2c5-40a5-c6c5-f6b373138f3f"
   },
   "outputs": [
    {
     "name": "stdout",
     "output_type": "stream",
     "text": [
      "lenght of the set 15\n",
      "'F2,S2' 0.3333333333333333\n",
      "'F1,S2' 0.3333333333333333\n",
      "'F3,S2' 0.3333333333333333\n",
      "'F4,S2' 0\n",
      "'F5,S1' 0.25\n",
      "'F1,S1' 0.25\n",
      "'F2,S1' 0.25\n",
      "'F4,S1' 0.25\n",
      "'F2,S3' 0.3333333333333333\n",
      "'F3,S3' 0.3333333333333333\n",
      "'F5,S2' 0\n",
      "'F3,S1' 0\n",
      "'F1,S3' 0\n",
      "'F4,S3' 0.3333333333333333\n",
      "'F5,S3' 0\n"
     ]
    }
   ],
   "source": [
    "# write your python code here\n",
    "# you can take the above example as sample input for your program to test\n",
    "# it should work for any general input try not to hard code for only given input strings\n",
    "\n",
    "\n",
    "\n",
    "# you can free to change all these codes/structure\n",
    "def compute_conditional_probabilites(A):\n",
    "    # your code\n",
    "    dct = {}\n",
    "    for i in range(len(A)):\n",
    "        if A[i][1] in dct:\n",
    "            dct[A[i][1]] += 1\n",
    "        else:\n",
    "            dct[A[i][1]] = 1\n",
    "\n",
    "    my_dict = dict()\n",
    "    for i in range(len(A)):\n",
    "        if A[i][0] +\",\"+ A[i][1] in my_dict:\n",
    "            my_dict[A[i][0] +\",\"+ A[i][1]] += 1\n",
    "        else:\n",
    "            my_dict[A[i][0] +\",\"+ A[i][1]] = 1\n",
    "\n",
    "    s = set()\n",
    "    for i in my_dict.items():\n",
    "        for k in dct.items():      \n",
    "            if i[0][3:] == k[0]:\n",
    "                s.add(\"'\"+ i[0] +\"'\" + \" \" +str(i[1]/k[1]))\n",
    "            elif i[0][:-2] + k[0] in my_dict:\n",
    "                 continue\n",
    "            else:\n",
    "                s.add(\"'\"+i[0][:-2] + k[0]+\"'\" +\" \" + str(0)) \n",
    "    print(\"lenght of the set\", len(s))\n",
    "\n",
    "    for i in list(s):\n",
    "        print(i)\n",
    "\n",
    "\n",
    "A = [['F1','S1'],['F2','S2'],['F3','S3'],['F1','S2'],['F2','S3'],['F3','S2'],['F2','S1'],['F4','S1'],['F4','S3'],['F5','S1']]\n",
    "\n",
    "compute_conditional_probabilites(A)"
   ]
  },
  {
   "cell_type": "markdown",
   "metadata": {
    "id": "n4HS87QmB-lF"
   },
   "source": [
    "<h3> Q9: Given two sentances S1, S2</h3>\n",
    "You will be given two sentances S1, S2 your task is to find \n",
    "<pre>\n",
    "a. Number of common words between S1, S2\n",
    "b. Words in S1 but not in S2\n",
    "c. Words in S2 but not in S1\n",
    "</pre>\n",
    "\n",
    "Ex: \n",
    "<pre>\n",
    "S1= \"the first column F will contain only 5 uniques values\"\n",
    "S2= \"the second column S will contain only 3 uniques values\"\n",
    "Output:\n",
    "a. 7\n",
    "b. ['first','F','5']\n",
    "c. ['second','S','3']\n",
    "</pre>"
   ]
  },
  {
   "cell_type": "code",
   "execution_count": 74,
   "metadata": {
    "colab": {
     "base_uri": "https://localhost:8080/"
    },
    "id": "Ez7hlHK0B-lG",
    "outputId": "09e48698-3021-4b15-f1fe-99f19e79ea21"
   },
   "outputs": [
    {
     "name": "stdout",
     "output_type": "stream",
     "text": [
      "a. 7\n",
      "b. {'F', 'first', '5'}\n",
      "c. {'second', 'S', '3'}\n"
     ]
    }
   ],
   "source": [
    "# write your python code here\n",
    "# you can take the above example as sample input for your program to test\n",
    "# it should work for any general input try not to hard code for only given input strings\n",
    "\n",
    "# you can free to change all these codes/structure\n",
    "def string_features(S1, S2):\n",
    "    # your code\n",
    "    list_S1 = S1.split()\n",
    "    list_S2 = S2.split()\n",
    "    count = 0\n",
    "    list_same_element = []\n",
    "    for i in list_S1:\n",
    "        for j in list_S2:\n",
    "            if i==j:\n",
    "                count += 1\n",
    "                list_same_element.append(i)   \n",
    "            a = count \n",
    "\n",
    "    b = set(list_S1) - set(list_same_element) \n",
    "    c = set(list_S2) - set(list_same_element)\n",
    "    return a, b, c\n",
    "\n",
    "S1= \"the first column F will contain only 5 uniques values\"\n",
    "S2= \"the second column S will contain only 3 uniques values\"\n",
    "a,b,c = string_features(S1, S2)\n",
    "print('a.',a)\n",
    "print('b.',b)\n",
    "print('c.',c)"
   ]
  },
  {
   "cell_type": "markdown",
   "metadata": {
    "id": "XefXVEjCB-lI"
   },
   "source": [
    "<h3> Q10: Given two sentances S1, S2</h3>\n",
    "You will be given a list of lists, each sublist will be of length 2 i.e. [[x,y],[p,q],[l,m]..[r,s]]\n",
    "consider its like a martrix of n rows and two columns\n",
    "\n",
    "a. the first column Y will contain interger values <br>\n",
    "b. the second column $Y_{score}$ will be having float values <br>\n",
    "Your task is to find the value of $f(Y,Y_{score}) = -1*\\frac{1}{n}\\Sigma_{for each Y,Y_{score} pair}(Ylog10(Y_{score})+(1-Y)log10(1-Y_{score}))$ here n is the number of rows in the matrix\n",
    "<pre>\n",
    "Ex:\n",
    "[[1, 0.4], [0, 0.5], [0, 0.9], [0, 0.3], [0, 0.6], [1, 0.1], [1, 0.9], [1, 0.8]]\n",
    "output:\n",
    "0.4243099\n",
    "</pre>\n",
    "$\\frac{-1}{8}\\cdot((1\\cdot log_{10}(0.4)+0\\cdot log_{10}(0.6))+(0\\cdot log_{10}(0.5)+1\\cdot log_{10}(0.5)) + ... + (1\\cdot log_{10}(0.8)+0\\cdot log_{10}(0.2)) )$"
   ]
  },
  {
   "cell_type": "code",
   "execution_count": 75,
   "metadata": {
    "colab": {
     "base_uri": "https://localhost:8080/"
    },
    "id": "N9zkagyNB-lJ",
    "outputId": "cb9e60b6-130c-407d-8564-bacc0933b1ac"
   },
   "outputs": [
    {
     "name": "stdout",
     "output_type": "stream",
     "text": [
      "0.42430993457031635\n"
     ]
    }
   ],
   "source": [
    "# write your python code here\n",
    "# you can take the above example as sample input for your program to test\n",
    "# it should work for any general input try not to hard code for only given input strings\n",
    "\n",
    "\n",
    "# you can free to change all these codes/structure\n",
    "def compute_log_loss(A):\n",
    "    # your code\n",
    "    loss = 0\n",
    "    n =len(A)\n",
    "    for i in A:\n",
    "        loss += -1/n * (i[0] * math.log10(i[1]) + (1-i[0]) * math.log10(1-i[1]))\n",
    "    return loss\n",
    "\n",
    "A = [[1, 0.4], [0, 0.5], [0, 0.9], [0, 0.3], [0, 0.6], [1, 0.1], [1, 0.9], [1, 0.8]]\n",
    "loss = compute_log_loss(A)\n",
    "print(loss)"
   ]
  }
 ],
 "metadata": {
  "colab": {
   "collapsed_sections": [],
   "name": "1_Python_Assignment.ipynb",
   "provenance": []
  },
  "kernelspec": {
   "display_name": "Python 3",
   "language": "python",
   "name": "python3"
  },
  "language_info": {
   "codemirror_mode": {
    "name": "ipython",
    "version": 3
   },
   "file_extension": ".py",
   "mimetype": "text/x-python",
   "name": "python",
   "nbconvert_exporter": "python",
   "pygments_lexer": "ipython3",
   "version": "3.7.4"
  }
 },
 "nbformat": 4,
 "nbformat_minor": 1
}
